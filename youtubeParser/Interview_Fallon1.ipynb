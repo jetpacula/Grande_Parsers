{
 "cells": [
  {
   "cell_type": "code",
   "execution_count": 50,
   "id": "0da735ab",
   "metadata": {},
   "outputs": [],
   "source": [
    "import csv \n",
    "with open('./labels_Fallon_1.csv', 'r') as f:\n",
    "    csvreader = csv.reader(f)\n",
    "    labels = [i for i in csvreader]"
   ]
  },
  {
   "cell_type": "code",
   "execution_count": 51,
   "id": "6caa9115",
   "metadata": {},
   "outputs": [],
   "source": [
    "from youtube_transcript_api import YouTubeTranscriptApi\n",
    "  \n",
    "srt = YouTubeTranscriptApi.get_transcript(\"hJzNWVkW83I\")\n",
    "\n",
    "for idx,obj in enumerate(srt):\n",
    "    srt[idx]['text'] = obj['text'].replace(\"\\n\",\" \")"
   ]
  },
  {
   "cell_type": "code",
   "execution_count": 52,
   "id": "24d13976",
   "metadata": {},
   "outputs": [],
   "source": [
    "caps = []\n",
    "for i in srt:\n",
    "    caps.append([range (int(i['start']*1000),int(i['start']*1000 + i['duration']*1000))])\n",
    "names = {'0':'Q','1':'A'}\n",
    "\n"
   ]
  },
  {
   "cell_type": "code",
   "execution_count": 53,
   "id": "ea9a2067",
   "metadata": {},
   "outputs": [],
   "source": [
    "speakers =[]\n",
    "for i in labels:\n",
    "    speakers.append([i[0],range(int(float(i[1])*1000),int(float(i[2])*1000))])"
   ]
  },
  {
   "cell_type": "code",
   "execution_count": 54,
   "id": "9fed9d27",
   "metadata": {},
   "outputs": [],
   "source": [
    "for idx,x in enumerate(caps):\n",
    "    compareDict = {'0':0,'1':0}\n",
    "    for y in speakers:\n",
    "        xs = set(x[0])\n",
    "        res = xs.intersection(y[1]) \n",
    "        if len(res)>0:\n",
    "            compareDict[y[0]] += len(res)  \n",
    "        #    x.append([y[0],y[1],res])\n",
    "    srt[idx]['speaker'] = names[max(compareDict, key=compareDict.get)]\n",
    "  #  x.append(max(compareDict, key=compareDict.get))\n",
    "  #  x.append()    \n",
    "            "
   ]
  },
  {
   "cell_type": "code",
   "execution_count": 55,
   "id": "58188674",
   "metadata": {},
   "outputs": [],
   "source": [
    "dialogueList = []\n",
    "addFlag = 0;\n",
    "\n",
    "runningObj = ''\n",
    "for idx,obj in enumerate(srt):\n",
    "    if idx<len(srt)-1:\n",
    "        if obj['speaker'] == srt[idx+1]['speaker']:\n",
    "            runningObj = runningObj + obj['text']\n",
    "        else :\n",
    "            dialogueList.append([obj['speaker'],[runningObj + \" \" + obj['text']]])\n",
    "            runningObj = ''\n",
    "    else:\n",
    "        dialogueList.append([obj['speaker'],[runningObj + \" \" + obj['text']]])\n",
    "        runningObj = ''"
   ]
  },
  {
   "cell_type": "code",
   "execution_count": 56,
   "id": "e6ad3f77",
   "metadata": {},
   "outputs": [],
   "source": [
    "with open('youtube_interview_Fallon_1.txt', 'w') as f:\n",
    "    for item in dialogueList:\n",
    "        f.write(\"%s\\n\" % item)"
   ]
  }
 ],
 "metadata": {
  "kernelspec": {
   "display_name": "Python 3 (ipykernel)",
   "language": "python",
   "name": "python3"
  },
  "language_info": {
   "codemirror_mode": {
    "name": "ipython",
    "version": 3
   },
   "file_extension": ".py",
   "mimetype": "text/x-python",
   "name": "python",
   "nbconvert_exporter": "python",
   "pygments_lexer": "ipython3",
   "version": "3.9.6"
  }
 },
 "nbformat": 4,
 "nbformat_minor": 5
}
