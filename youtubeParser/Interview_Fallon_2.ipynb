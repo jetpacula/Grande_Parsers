{
 "cells": [
  {
   "cell_type": "code",
   "execution_count": 28,
   "id": "be5aa51b",
   "metadata": {},
   "outputs": [],
   "source": [
    "import csv \n",
    "with open('./labels_Fallon_2.csv', 'r') as f:\n",
    "    csvreader = csv.reader(f)\n",
    "    labels = [i for i in csvreader]\n",
    "    # using csv.writer method from CSV package\n",
    "   # write = csv.writer(f)\n",
    "   # write.readrows(labelling)"
   ]
  },
  {
   "cell_type": "code",
   "execution_count": 29,
   "id": "6caa9115",
   "metadata": {},
   "outputs": [],
   "source": [
    "from youtube_transcript_api import YouTubeTranscriptApi\n",
    "  \n",
    "srt = YouTubeTranscriptApi.get_transcript(\"HqgimznGHbA\")\n",
    "\n",
    "for idx,obj in enumerate(srt):\n",
    "    srt[idx]['text'] = obj['text'].replace(\"\\n\",\" \")"
   ]
  },
  {
   "cell_type": "code",
   "execution_count": 30,
   "id": "24d13976",
   "metadata": {},
   "outputs": [],
   "source": [
    "caps = []\n",
    "for i in srt:\n",
    "    caps.append([range (int(i['start']*1000),int(i['start']*1000 + i['duration']*1000))])\n",
    "names = {'0':'A','1':'Q'}\n",
    "\n"
   ]
  },
  {
   "cell_type": "code",
   "execution_count": 31,
   "id": "98be1b9a",
   "metadata": {},
   "outputs": [],
   "source": [
    "speakers =[]\n",
    "for i in labels:\n",
    "    speakers.append([i[0],range(int(float(i[1])*1000),int(float(i[2])*1000))])"
   ]
  },
  {
   "cell_type": "code",
   "execution_count": 32,
   "id": "f6380fd4",
   "metadata": {},
   "outputs": [],
   "source": [
    "for idx,x in enumerate(caps):\n",
    "    compareDict = {'0':0,'1':0}\n",
    "    for y in speakers:\n",
    "        xs = set(x[0])\n",
    "        res = xs.intersection(y[1]) \n",
    "        if len(res)>0:\n",
    "            compareDict[y[0]] += len(res)  \n",
    "        #    x.append([y[0],y[1],res])\n",
    "    srt[idx]['speaker'] = names[max(compareDict, key=compareDict.get)]\n",
    "  #  x.append(max(compareDict, key=compareDict.get))\n",
    "  #  x.append()    \n",
    "            "
   ]
  },
  {
   "cell_type": "code",
   "execution_count": 33,
   "id": "63a7cb39",
   "metadata": {},
   "outputs": [],
   "source": [
    "dialogueList = []\n",
    "addFlag = 0;\n",
    "\n",
    "runningObj = ''\n",
    "for idx,obj in enumerate(srt):\n",
    "    if idx<len(srt)-1:\n",
    "        if obj['speaker'] == srt[idx+1]['speaker']:\n",
    "            runningObj = runningObj + obj['text']\n",
    "        else :\n",
    "            dialogueList.append([obj['speaker'],[runningObj + \" \" + obj['text']]])\n",
    "            runningObj = ''\n",
    "    else:\n",
    "        dialogueList.append([obj['speaker'],[runningObj + \" \" + obj['text']]])\n",
    "        runningObj = ''"
   ]
  },
  {
   "cell_type": "code",
   "execution_count": 34,
   "id": "320ee33d",
   "metadata": {},
   "outputs": [
    {
     "data": {
      "text/plain": [
       "[['Q', ['>> JAMES: WELCOME BACK TO THE SHOW. ARIANA GRANDE IS STILL HERE.']],\n",
       " ['A', [' ( CHEERS AND APPLAUSE ) THANK YOU FOR STICKING AROUND.']],\n",
       " ['Q',\n",
       "  ['THAT WAS SUCH AN INCREDIBLE SURPRISE. >> IT WAS SUCH AN INCREDIBLE SURPRISE FOR ME.']],\n",
       " ['A',\n",
       "  [\"I'M SO EXCITED I GOT TO DO IT.I WAS SO NERVOUS. >> James: THOSE BOYS WILL NEVER FORGET THAT.\"]],\n",
       " ['Q', [' >> ME NEITHER.']],\n",
       " ['A',\n",
       "  [\">> James: WHEN WE ORGANIZED THIS, WE DIDN'T KNOW WHEN YOU WERE GOING TO BE HERE TODAY THIS WOULD BE QUITE AN INCREDIBLE DAY\"]],\n",
       " ['Q',\n",
       "  [\"FOR YOU.>> I DIDN'T KNOW I WAS GOING TO BE SITTING ON THIS COUCH RIGHTNOW. SORRY I'M UNDERDRESSED.\"]],\n",
       " ['A',\n",
       "  [\"SORRY. >> James: WE FELT WE COULDN'T HAVE YOU HERE AND NOT CELEBRATE\"]],\n",
       " ['Q', [' THE MILESTONE YOU ACHIEVED TODAY.']],\n",
       " ['A',\n",
       "  ['YOU ARE HAVING ONE OF THE BIGGEST DAYS IN THE HISTORY OFMUSIC. ARIANA GRANDE ALBUM \"THANK U, NEXT\" IS CURRENTLY THE NUMBER']],\n",
       " ['Q',\n",
       "  [\"ONE ALBUM IN THE COUNTRY AND YOU HOLD THE NUMBER ONE, TWO ANDTHREE SPOTS ON THE BILLBOARD TOP 100.( CHEERS AND APPLAUSE ) WHICH SUN BELIEVABLE!( CHEERS AND APPLAUSE ) IT'S INCREDIBLE.>> THANKS.>> James: YOU SHOULD BE SO THRILLED. >> I AM.\"]],\n",
       " ['A', ['I AM. I AM.']],\n",
       " ['Q',\n",
       "  ['>> James: TO PUT THIS IN PERSPECTIVE, THE LAST ARTIST TO DO THIS IN HISTORY WAS A BAND CALLED THE BEATLES.']],\n",
       " ['A',\n",
       "  [\"( CHEERS AND APPLAUSE ) HOW DO YOU FEEL TODAY?>> I THINK IT'S SO FUNNY.I THOUGHT IT WAS HILARIOUS, WHEN I WOKE UP, I THOUGHT IT WAS ANEDIT MY FANS MADE.THEY'RE, LIKE, INSANE PEOPLE THAT I LOVE.BUT, UM, I THOUGHT IT WAS A JOKE.I THOUGHT IT WAS A JOKE.SO IT'S LIKELY WILD. MY MOM AND I WERE DRIVING AROUND LISTENING TO THE BEATLES ALL DAY\"]],\n",
       " ['Q', [\"AND I WAS, LIKE, THIS IS GREAT. I'M SO SORRY, THIS IS SO WEIRD.\"]],\n",
       " ['A',\n",
       "  [\"IT'S CRAZY.>> James: IT'S AN AMAZING ACHIEVEMENT. >> I'LL TAKE A BREAK AND GO AWAY FOR A LITTLE BIT.\"]],\n",
       " ['Q', [\">> James: WE DON'T WANT YOU TO. >> I'M TIRED OF MY VOICE, SORRY.\"]],\n",
       " ['A',\n",
       "  ['>> James: WE MADE A PARODY ON OUR SHOW WITH JE JEFF GOLDBLUM. HOW MUCH A ROLE DO YOU THINK THAT PLAYED IN THE ALBUM.']],\n",
       " ['Q',\n",
       "  ['>> A LOT, HONESTLY. >> James: A LOT OF PEOPLE SAID THEY THINK, WITHOUT THAT, IT']],\n",
       " ['A',\n",
       "  [\"PROBABLY WOULDN'T HAVE HAPPENED.>> YES.I WAS ACTUALLY ONE OF THE PEOPLE WHO SAID THAT.( LAUGHTER ) SO THANK YOU.>> James: WHAT DO YOU DO NOW?WHAT DOES ARIANA GRANDE DO WHEN YOU HAVE THE NUMBER ONE ALBUM,THE NUMBER ONE, TWO AND THREE ON THE BILLBOARD, YOU AREOFFICIALLY ONE OF THE BIGGEST RECORDING ARTISTEST IN THEWORLD.WHAT DO YOU DO TO CELEBRATE?>> I'M SO EXCITED YOU ASKED ME TO DO THIS BECAUSE I USUALLYDON'T HAVE ANYTHING TO DO OTHER THAN MAKE SONGS AND WORK.PERSONAL LIFE IS NONEXISTENT.MY MOM WANTS TO TAKE ME TO DINNER BUT I'M GOING TO END UPIN THE STUDIO.>> James: WE THOUGHT WE WOULD HELP KICK OFF THE CELEBRATIONS.>> THAT WILL BE FUN.>> James: DON'T START THIS.I'VE ALREADY BEEN ASKED TO JOIN THE TNT BOYS.>> WILL BE GREAT.>> James: YOU LIE TO ME. I DO.\"]],\n",
       " ['Q',\n",
       "  ['>> James: WE THOUGHT WE WOULD MAYBE KICK OFF THE CELEBRATIONS.WE GOT YOU A CONGRATULATIONS CAKE RIGHT HERE. ( BAND PLAYING ) WITH A ONE, TWO, THREE --']],\n",
       " ['A',\n",
       "  [\"( CHEERS AND APPLAUSE ) IT'S AN INCREDIBLE THING.>> THANK YOU!>> James: WE CAN'T CARRY ON WITH THE REST OF THE SHOW UNTIL YOU'VE EATEN THE ENTIRE CAKE.\"]],\n",
       " ['Q', [' SO YOU SHOULD PROBABLY GET IN THERE.']],\n",
       " ['A',\n",
       "  ['BUT, SERIOUSLY, CONGRATULATIONS ON AN AMAZING DAY. I MEAN THIS FROM THE BOTTOM OF MY HEART.']],\n",
       " ['Q',\n",
       "  ['AFTER EVERYTHING YOU HAVE BEEN THROUGH THIS PAST 12 MONTHS, I THINK IT IS A WONDERFUL THING, AND YOU SHOULD ENJOY THIS']],\n",
       " ['A',\n",
       "  [\"MOMENT.I'M BEING INCREDIBLY PROUD.LADIES AND GENTLEMEN, ARIANA GRANDE!WE'RE GOING TO STICK AROUND! ARIANA GRANDE, WE'LL BE RIGHT BACK!\"]]]"
      ]
     },
     "execution_count": 34,
     "metadata": {},
     "output_type": "execute_result"
    }
   ],
   "source": [
    "dialogueList"
   ]
  },
  {
   "cell_type": "code",
   "execution_count": 35,
   "id": "112f18de",
   "metadata": {},
   "outputs": [],
   "source": [
    "with open('youtube_interview_Fallon_2.txt', 'w') as f:\n",
    "    for item in dialogueList:\n",
    "        f.write(\"%s\\n\" % item)"
   ]
  },
  {
   "cell_type": "code",
   "execution_count": null,
   "id": "4805d4a3",
   "metadata": {},
   "outputs": [],
   "source": []
  }
 ],
 "metadata": {
  "kernelspec": {
   "display_name": "Python 3 (ipykernel)",
   "language": "python",
   "name": "python3"
  },
  "language_info": {
   "codemirror_mode": {
    "name": "ipython",
    "version": 3
   },
   "file_extension": ".py",
   "mimetype": "text/x-python",
   "name": "python",
   "nbconvert_exporter": "python",
   "pygments_lexer": "ipython3",
   "version": "3.9.6"
  }
 },
 "nbformat": 4,
 "nbformat_minor": 5
}
