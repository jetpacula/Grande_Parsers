{
 "cells": [
  {
   "cell_type": "code",
   "execution_count": 1,
   "id": "9800567e",
   "metadata": {},
   "outputs": [
    {
     "name": "stdout",
     "output_type": "stream",
     "text": [
      "Collecting youtube_transcript_api\n",
      "  Downloading youtube_transcript_api-0.4.1-py3-none-any.whl (22 kB)\n",
      "Requirement already satisfied: requests in /Users/jetpacula/miniforge3/envs/firstEnv/lib/python3.9/site-packages (from youtube_transcript_api) (2.26.0)\n",
      "Requirement already satisfied: certifi>=2017.4.17 in /Users/jetpacula/miniforge3/envs/firstEnv/lib/python3.9/site-packages (from requests->youtube_transcript_api) (2021.10.8)\n",
      "Requirement already satisfied: charset-normalizer~=2.0.0 in /Users/jetpacula/miniforge3/envs/firstEnv/lib/python3.9/site-packages (from requests->youtube_transcript_api) (2.0.0)\n",
      "Requirement already satisfied: idna<4,>=2.5 in /Users/jetpacula/miniforge3/envs/firstEnv/lib/python3.9/site-packages (from requests->youtube_transcript_api) (3.1)\n",
      "Requirement already satisfied: urllib3<1.27,>=1.21.1 in /Users/jetpacula/miniforge3/envs/firstEnv/lib/python3.9/site-packages (from requests->youtube_transcript_api) (1.26.7)\n",
      "Installing collected packages: youtube-transcript-api\n",
      "Successfully installed youtube-transcript-api-0.4.1\n"
     ]
    }
   ],
   "source": [
    "!pip install youtube_transcript_api"
   ]
  },
  {
   "cell_type": "code",
   "execution_count": 4,
   "id": "3e6a7c8c",
   "metadata": {},
   "outputs": [],
   "source": [
    "from youtube_transcript_api import YouTubeTranscriptApi\n",
    "\n",
    "subsMonologue = YouTubeTranscriptApi.get_transcript(\"FX1eWKGGOrY\")\n",
    "\n",
    "subsMonologueText = [i['text'].strip() for i in subsMonologue if i['text']!=\"[Music]\" ]"
   ]
  },
  {
   "cell_type": "code",
   "execution_count": 6,
   "id": "4ebf04aa",
   "metadata": {},
   "outputs": [],
   "source": [
    "with open('youtube_mono.txt', 'w') as f:\n",
    "    for item in subsMonologueText:\n",
    "        f.write(\"%s\\n\" % item)"
   ]
  },
  {
   "cell_type": "code",
   "execution_count": 3,
   "id": "e137796a",
   "metadata": {},
   "outputs": [
    {
     "name": "stdout",
     "output_type": "stream",
     "text": [
      "fallon_1 https://www.youtube.com/watch?v=hJzNWVkW83I\n",
      "fallon_2 https://www.youtube.com/watch?v=rXqh6AcIb-c\n",
      "corden https://www.youtube.com/watch?v=PRl5diX8L4g\n",
      "kelly https://www.youtube.com/watch?v=PRl5diX8L4g&t=214s\n"
     ]
    }
   ],
   "source": [
    "videos = {'fallon_1':'https://www.youtube.com/watch?v=hJzNWVkW83I', 'fallon_2':'https://www.youtube.com/watch?v=rXqh6AcIb-c','corden':'https://www.youtube.com/watch?v=PRl5diX8L4g','kelly':'https://www.youtube.com/watch?v=PRl5diX8L4g&t=214s'}\n",
    "for key,value in videos.items():\n",
    "    print (key,value)"
   ]
  },
  {
   "cell_type": "code",
   "execution_count": null,
   "id": "79496905",
   "metadata": {},
   "outputs": [],
   "source": []
  }
 ],
 "metadata": {
  "kernelspec": {
   "display_name": "Python 3 (ipykernel)",
   "language": "python",
   "name": "python3"
  },
  "language_info": {
   "codemirror_mode": {
    "name": "ipython",
    "version": 3
   },
   "file_extension": ".py",
   "mimetype": "text/x-python",
   "name": "python",
   "nbconvert_exporter": "python",
   "pygments_lexer": "ipython3",
   "version": "3.9.6"
  }
 },
 "nbformat": 4,
 "nbformat_minor": 5
}
