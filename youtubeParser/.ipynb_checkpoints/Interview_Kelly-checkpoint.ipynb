{
 "cells": [
  {
   "cell_type": "markdown",
   "id": "782c7d29",
   "metadata": {},
   "source": [
    "First off, get labelled time ranges for speakers"
   ]
  },
  {
   "cell_type": "code",
   "execution_count": 66,
   "id": "be5aa51b",
   "metadata": {},
   "outputs": [],
   "source": [
    "import csv \n",
    "with open('./labels_Kelly.csv', 'r') as f:\n",
    "    csvreader = csv.reader(f)\n",
    "    labels = [i for i in csvreader]\n"
   ]
  },
  {
   "cell_type": "markdown",
   "id": "519bede6",
   "metadata": {},
   "source": [
    "Then get the captions from youtube source as list to match"
   ]
  },
  {
   "cell_type": "code",
   "execution_count": 67,
   "id": "6caa9115",
   "metadata": {},
   "outputs": [],
   "source": [
    "from youtube_transcript_api import YouTubeTranscriptApi\n",
    "  \n",
    "srt = YouTubeTranscriptApi.get_transcript(\"PRl5diX8L4g\")\n",
    "\n",
    "for idx,obj in enumerate(srt):\n",
    "    srt[idx]['text'] = obj['text'].replace(\"\\n\",\" \") #  strip newline chars"
   ]
  },
  {
   "cell_type": "code",
   "execution_count": 68,
   "id": "24d13976",
   "metadata": {},
   "outputs": [],
   "source": [
    "caps = []\n",
    "for i in srt:\n",
    "    caps.append([range (int(i['start']*1000),int(i['start']*1000 + i['duration']*1000))]) # multipluying to get accuaracy up to 1000 msecs \n",
    "names = {'0':'A','1':'Q','Arianna':'A','Kelly':'Q'} # dict so dataset is homogenenous\n",
    "\n",
    "speakers =[]\n",
    "for i in labels:\n",
    "    speakers.append([i[0],range(int(float(i[1])*1000),int(float(i[2])*1000))])"
   ]
  },
  {
   "cell_type": "markdown",
   "id": "8d91d9e8",
   "metadata": {},
   "source": [
    "Here we summarize which speaker has been detected the most time during the speaking window and select them\n",
    "\n",
    "Should there be more time given this would be excellent opportunity to use K-means method, but i figured it would take too much time to get like 100 lines of dialogue"
   ]
  },
  {
   "cell_type": "code",
   "execution_count": 69,
   "id": "f6380fd4",
   "metadata": {},
   "outputs": [],
   "source": [
    "for idx,x in enumerate(caps):\n",
    "    compareDict = {'0':0,'1':0}\n",
    "    for y in speakers:\n",
    "        xs = set(x[0])\n",
    "        res = xs.intersection(y[1]) \n",
    "        if len(res)>0:\n",
    "            compareDict[y[0]] += len(res)  \n",
    "    srt[idx]['speaker'] = names[max(compareDict, key=compareDict.get)]     "
   ]
  },
  {
   "cell_type": "markdown",
   "id": "8a8c774a",
   "metadata": {},
   "source": [
    "here we concatenate the continous lines of same speaker (later turned out to be more of a problem because these \"chunks\" consist of mutual interruptions of speakers and it leaves us without timespamps to further split them)"
   ]
  },
  {
   "cell_type": "code",
   "execution_count": 70,
   "id": "63a7cb39",
   "metadata": {},
   "outputs": [],
   "source": [
    "dialogueList = []\n",
    "addFlag = 0;\n",
    "\n",
    "runningObj = ''\n",
    "for idx,obj in enumerate(srt):\n",
    "    if idx<len(srt)-1:\n",
    "        if obj['speaker'] == srt[idx+1]['speaker']:\n",
    "            runningObj = runningObj + obj['text']\n",
    "        else :\n",
    "            dialogueList.append([obj['speaker'],[runningObj + \" \" + obj['text']]])\n",
    "            runningObj = ''\n",
    "    else:\n",
    "        dialogueList.append([obj['speaker'],[runningObj + \" \" + obj['text']]])\n",
    "        runningObj = ''"
   ]
  },
  {
   "cell_type": "markdown",
   "id": "4b8bddcd",
   "metadata": {},
   "source": [
    "splitting \"chunks\" into different lines because the speech within is mixed between speakers "
   ]
  },
  {
   "cell_type": "code",
   "execution_count": 71,
   "id": "2f095cb1",
   "metadata": {},
   "outputs": [],
   "source": [
    "import re\n",
    "for i in dialogueList:\n",
    "    i[1]= i[1][0].split(\"-\")\n",
    "    if len(i[1])>1:\n",
    "        i[0] = \"Mixed\"\n",
    "        if '' in i[1]:\n",
    "            i[1].remove('')\n",
    "        if ' ' in i[1]:\n",
    "            i[1].remove(' ')\n",
    "    else:\n",
    "        result = re.search(r\"\\[([A-Za-z0-9_]+)\\]\", i[1][0])\n",
    "        if result:\n",
    "            set_trace()\n",
    "            i[0] = names[result.group(1)]\n",
    "            i[1][0] = re.sub(\"[\\(\\[].*?[\\)\\]]\", \"\", i[1][0])\n"
   ]
  },
  {
   "cell_type": "markdown",
   "id": "5e16f4d7",
   "metadata": {},
   "source": [
    "returning one-line chunks into regular one-liners"
   ]
  },
  {
   "cell_type": "markdown",
   "id": "09b0c8ff",
   "metadata": {},
   "source": [
    "trying to extract Speaker labels in brackets with regex"
   ]
  },
  {
   "cell_type": "code",
   "execution_count": 72,
   "id": "e9a80a98",
   "metadata": {},
   "outputs": [],
   "source": [
    "for i in dialogueList:\n",
    "    for idx,k in enumerate(i[1]):\n",
    "        try:\n",
    "            result = re.search(r\"\\[([A-Za-z0-9_]+)\\]\", k)\n",
    "        except:\n",
    "            continue\n",
    "        if result:\n",
    "            spkr = result.group(1)\n",
    "            i[1][idx] = [names[spkr],re.sub(\"[\\(\\[].*?[\\)\\]]\", \"\", k)]\n"
   ]
  },
  {
   "cell_type": "code",
   "execution_count": 73,
   "id": "a1557af1",
   "metadata": {},
   "outputs": [],
   "source": [
    "for idx,i in enumerate(dialogueList):\n",
    "    if len(i[1])==1 and isinstance(i[1][0],list):\n",
    "        dialogueList[idx][0] = i[1][0][0]\n",
    "        dialogueList[idx][1] = i[1][0][1]"
   ]
  },
  {
   "cell_type": "code",
   "execution_count": 74,
   "id": "bb340b1e",
   "metadata": {},
   "outputs": [
    {
     "name": "stdout",
     "output_type": "stream",
     "text": [
      "['Mixed', [' You released a song with Demi, Demi Lovato, this yearand it\\'s called, \"Met Him Last Night\".', ' Yeah.', \" So I think we can all relate to that,this is the last time I'm doing this feeling.I've said that so much in my life, usually around sugar.But it is the last one doing this, at like what,what was this whole song and project, how did that come about?\"]] \n",
      "\n",
      "['Mixed', [' So it came about, I was writing one night with my friend,Tommy Brown, who produces a lot of my music,we write together all the timeand we were just sort of having a session for fun.And the minute we started it from that night, I was like, oh, Demi Lovato has to sing this.']] \n",
      "\n",
      "['Mixed', [\" I love that, I have rarely done that, usually when I write it's sort of like personal\"]] \n",
      "\n",
      "['Mixed', ['I rarely think about another', \" This one was just like, it wasn't,it was just like a story that we made up andwe're going with and like.\", ' Yeah. ', ' Tommy was like, \"What about, I\\'ve seen the devil?\"']] \n",
      "\n",
      "['Q', [\" And I was like, oh yeah, that's fun\"]] \n",
      "\n",
      "['Mixed', [\"let's tell that story and then yeah.\", ['Q', '  Yeah, that seems fun.'], ' I love that like, Tommy was like, what about the devil?I was like fun, you know like, what?No, sorry. Oh God the conspiracies that are gonna come']] \n",
      "\n",
      "['Mixed', ['from that clip anyway.(Kelly laughs)', ' You will be', ['A', \"  I'm so happy to be here.\"], \" You will be another member of the Illuminatithat's my favorite thing.\", ' I love that thing too.', \" Everyone always thinks we're part of the Illuminati.\", ' They always think it.', \" And somebody was like, yeah, they're witches. I'm like, if I'm a witch,\"]] \n",
      "\n",
      "['Mixed', ['I have the least amount of power in the world.', ' Same', ' Yeah but that is like such a thing. Like I have like friends whose moms are like,']] \n",
      "\n",
      "['Mixed', [\" It's a thing \", \" Is it true? And I'm like, what?\"]] \n",
      "\n",
      "['Q', '  I had a family member ask me.'] \n",
      "\n",
      "['Mixed', [['A', \"  Yeah and I'm like actually it is, cheers.Im so scary.\"], ['Q', \"  So, I, it's the weirdest thing ever.You do incredibly well with other vocalists songs.Like ,one, you're an incredible singer.You're, I know I talk about this all the timeyou're probably so annoyed butyour impressions of people too,are just so dead on, it's so crazy.But I've heard you cover like Mariah Carey, which is a hard person to cover, right?\"]]] \n",
      "\n",
      "['A', [' A Vision of Love or Emotions like']] \n",
      "\n",
      "['Mixed', [\"I've heard you cover those, right. \", ' Yeah']] \n",
      "\n",
      "['Q', '  You sound beautiful.'] \n",
      "\n",
      "['Mixed', [' Thank you so much.']] \n",
      "\n",
      "['Mixed', [['Q', \"  I've heard you do Whitney.\"], ' Thank you, Oh my God wait', ' You do the greats.']] \n",
      "\n",
      "['Mixed', [' But can I tell you about my favorite moment,covering a song in my life was with you recently?', \" That's, I loved that, a whole song came out of it, a duet came out of it.\"]] \n",
      "\n",
      "['A', [' Yes, but I love the song that you picked']] \n",
      "\n",
      "['Mixed', ['because they asked me you know', \" But they're gonna see it tonight.\", ' They are gonna see it tonight.', ' When it airs. ', ' Well it a very soulful song.']] \n",
      "\n",
      "['Mixed', ['(audience claps)', \" One of my favorite moments of the whole season so farwas the coach performance because, like just gettingto sing with this woman and also,Blake and John, it was just such an incredible experience.Like the coolest part was the rehearsal beforehand,where all of us were just sitting around a pianoand just like hearing their voices in the roomwas so special because you're so familiar with their voices because of their huge records\"]] \n",
      "\n",
      "['Mixed', ['and you hear them all the time but.', ' No, it was fun, it was my favorite part.', ['A', '  It was so special what a cool memory.'], ' Yeah', \" I was like, I gotta sing now that's not fair but\", ' Shut up, Oh my God, no, wait, I have this questionbecause Meghan Trainor said, she told us that she likes to play rough tracks for Uber drivers,']] \n",
      "\n",
      "['A', [' which is the most random thing.']] \n",
      "\n",
      "['Q', [\" She's like, I just want to see what they think, you know.\"]] \n",
      "\n",
      "['A', [' Have you ever played like songs before they come out']] \n",
      "\n",
      "['Mixed', ['for anybody just to get like a taste test of what ', ' Yes Of course, yeah, you mean like before the label']] \n",
      "\n",
      "['Q', '  Like friends or like yeah, before the label before anyone.'] \n",
      "\n",
      "['Mixed', [' Oh everybody before the label. ', ' Yes']] \n",
      "\n",
      "['Mixed', [' As many as I can find', \" I need an army behind me saying it's good.\", \" Sorry my friends I'm sorry, thank you,I'm just kidding, for everything. I love you guys.\", ' But have you ever done that?Just played it for randos.', \" Of course, I, I have like a couple of very close friendsthat I met through the internet,through being fans of mine, like four or five years agowe became very close and like with Sweetener,and Thank You Next and Positions likethey heard all of it and more that didn't make itbeforehand and helped me put together.And I trust them with everything becausethey are the people that I, I care about touching with this music the most.\"]] \n",
      "\n",
      "['Q', '  Yeah'] \n",
      "\n",
      "['Mixed', [' So I do, I have so much respect']] \n",
      "\n",
      "['Mixed', ['for what the label has to say,I appreciate it and like my, you know,the team and those people, but at the same time,I really value what', ['Q', '  The people who are following you say.'], ' My fans have to say', \" Yeah. I think that's way more important. I think.\", \" Here's a thing though have you everhad this moment happen where I'm like listening to mixes,like the mixing and mastering actually you've cometo all the songs and everybody's,and you're making sure the records okay,And I have been like in my car,like after dropping a kid off somewhereor whatever, and like jamming to it,just, you know, really wanting to hear it.And then someone next to you is like, is that your new song?(Audience laughs)And I'm like and you feel like such a toolcause you're jamming to yourself.\", ['A', \"  That's incredible, did you, did you say, yeah.Do you like it?\"], \" I literally was like, oh my God.I was like, I was like, no no no I defended myself.I was like, no, no, no, no, no,I'm mixed. I'm listening to the mix.I have to approve the mix, I just don't jam to myself at red lights.\"]] \n",
      "\n",
      "['Mixed', [' You like no, I have some notes on the high', 'end']] \n",
      "\n",
      "['Q', [\" and I'm telling them to fix it I swear.\"]] \n",
      "\n",
      "['Mixed', [' Yeah, these girls are just hanging out the sideand I was like, oh God, I feel like such a tool. ', ' I would have died, its so fun.']] \n",
      "\n",
      "['Mixed', [' Yeah. And then I was like, yes, it isand so I flap my window and I let them hear it, so.', ' Have you ever drive past those Hollywood tour truck things', ' And wave.', \" Oh no sometimes they're like looking,they're like taking pictures of someone over thereand I'm like wrong way and I pull off and just be off.\", \" Wrong way! That happens on this lot.Every time I drive from this set to the Voice,the bus to the Universal like tour comes throughand I'm always like waving and we're always laughing,cause they're like, well, I tried to wave they're all looking at the posters.\"]] \n",
      "\n",
      "['A', [\"Yeah,like the poster is cool,but the real thing might be better. I don't know.\"]] \n",
      "\n"
     ]
    }
   ],
   "source": [
    "for i in dialogueList:\n",
    "    print(i,'\\n')"
   ]
  },
  {
   "cell_type": "code",
   "execution_count": 75,
   "id": "1967e658",
   "metadata": {},
   "outputs": [],
   "source": [
    "with open('youtube_interview_kelly.txt', 'w') as f:\n",
    "    for item in dialogueList:\n",
    "        f.write(\"%s\\n\" % item)\n"
   ]
  },
  {
   "cell_type": "code",
   "execution_count": null,
   "id": "eb9aaad5",
   "metadata": {},
   "outputs": [],
   "source": []
  }
 ],
 "metadata": {
  "kernelspec": {
   "display_name": "Python 3 (ipykernel)",
   "language": "python",
   "name": "python3"
  },
  "language_info": {
   "codemirror_mode": {
    "name": "ipython",
    "version": 3
   },
   "file_extension": ".py",
   "mimetype": "text/x-python",
   "name": "python",
   "nbconvert_exporter": "python",
   "pygments_lexer": "ipython3",
   "version": "3.9.6"
  }
 },
 "nbformat": 4,
 "nbformat_minor": 5
}
