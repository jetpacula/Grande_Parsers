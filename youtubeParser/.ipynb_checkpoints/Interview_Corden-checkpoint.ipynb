{
 "cells": [
  {
   "cell_type": "code",
   "execution_count": 20,
   "id": "be5aa51b",
   "metadata": {},
   "outputs": [],
   "source": [
    "import csv \n",
    "with open('./labels2.csv', 'r') as f:\n",
    "    csvreader = csv.reader(f)\n",
    "    labels = [i for i in csvreader]\n",
    "    # using csv.writer method from CSV package\n",
    "   # write = csv.writer(f)\n",
    "   # write.readrows(labelling)"
   ]
  },
  {
   "cell_type": "code",
   "execution_count": 21,
   "id": "6caa9115",
   "metadata": {},
   "outputs": [],
   "source": [
    "from youtube_transcript_api import YouTubeTranscriptApi\n",
    "  \n",
    "srt = YouTubeTranscriptApi.get_transcript(\"rXqh6AcIb-c\")\n",
    "\n",
    "for idx,obj in enumerate(srt):\n",
    "    srt[idx]['text'] = obj['text'].replace(\"\\n\",\" \")"
   ]
  },
  {
   "cell_type": "code",
   "execution_count": 22,
   "id": "24d13976",
   "metadata": {},
   "outputs": [],
   "source": [
    "caps = []\n",
    "for i in srt:\n",
    "    caps.append([range (int(i['start']*1000),int(i['start']*1000 + i['duration']*1000))])\n",
    "names = {'0':'A','1':'Q'}\n",
    "\n"
   ]
  },
  {
   "cell_type": "code",
   "execution_count": 23,
   "id": "98be1b9a",
   "metadata": {},
   "outputs": [],
   "source": [
    "speakers =[]\n",
    "for i in labels:\n",
    "    speakers.append([i[0],range(int(float(i[1])*1000),int(float(i[2])*1000))])"
   ]
  },
  {
   "cell_type": "code",
   "execution_count": 24,
   "id": "f6380fd4",
   "metadata": {},
   "outputs": [],
   "source": [
    "for idx,x in enumerate(caps):\n",
    "    compareDict = {'0':0,'1':0}\n",
    "    for y in speakers:\n",
    "        xs = set(x[0])\n",
    "        res = xs.intersection(y[1]) \n",
    "        if len(res)>0:\n",
    "            compareDict[y[0]] += len(res)  \n",
    "        #    x.append([y[0],y[1],res])\n",
    "    srt[idx]['speaker'] = names[max(compareDict, key=compareDict.get)]\n",
    "  #  x.append(max(compareDict, key=compareDict.get))\n",
    "  #  x.append()    \n",
    "            "
   ]
  },
  {
   "cell_type": "code",
   "execution_count": 25,
   "id": "63a7cb39",
   "metadata": {},
   "outputs": [],
   "source": [
    "dialogueList = []\n",
    "addFlag = 0;\n",
    "\n",
    "runningObj = ''\n",
    "for idx,obj in enumerate(srt):\n",
    "    if idx<len(srt)-1:\n",
    "        if obj['speaker'] == srt[idx+1]['speaker']:\n",
    "            runningObj = runningObj + obj['text']\n",
    "        else :\n",
    "            dialogueList.append([obj['speaker'],[runningObj + \" \" + obj['text']]])\n",
    "            runningObj = ''\n",
    "    else:\n",
    "        dialogueList.append([obj['speaker'],[runningObj + \" \" + obj['text']]])\n",
    "        runningObj = ''"
   ]
  },
  {
   "cell_type": "code",
   "execution_count": 26,
   "id": "619bf383",
   "metadata": {},
   "outputs": [
    {
     "data": {
      "text/plain": [
       "[['Q', [\" -How's the album coming? Are we close to an album?\"]],\n",
       " ['A', ['-Yes. My album is coming this summer. -It is?']],\n",
       " ['Q',\n",
       "  [\"[ Cheers and applause ]That's big! -Yeah.-All right, tell me more, who's producing? Who are you working with?\"]],\n",
       " ['A',\n",
       "  ['-I worked with Pharrell and Max. -Nice!-And ILYA and Savan.And it was a really awesome experience. It is called \"Sweetener.\"']],\n",
       " ['Q',\n",
       "  ['[ Cheers and applause ]-You\\'re dropping all the things everyone wants to hear. It is called \"Sweetener.\"']],\n",
       " ['A',\n",
       "  [\"-I know, I've been away too long. I have so much more -- I want to say everything.\"]],\n",
       " ['Q',\n",
       "  ['-Yeah, go ahead. Tell me every single thing. It\\'s called \"Sweetener.\" -Okay, so yeah.']],\n",
       " ['A',\n",
       "  ['-Why is it called \"Sweetener\"? -Because it\\'s kind of about,like, bringing light to a situation or to someone\\'s lifeor somebody else who brings light to your life or sweetening the situation, yeah.']],\n",
       " ['Q',\n",
       "  ['-Everyone needs a little sweetener. Yeah. -Yeah, yeah. -Can you drop any song hints?']],\n",
       " ['A', [' -I look like a gum drop. Is it okay?']],\n",
       " ['Q',\n",
       "  [\"[ Laughter ] -You don't -- you look likethe most beautiful gum drop. It's fantastic.Don't change anything. You look great.-All right.[ Laughter ] -Can you tell us any songs on the record?\"]],\n",
       " ['A', [' -I can. Should I just spit it out?']],\n",
       " ['Q',\n",
       "  [\"-No, I mean -- [ Cheers and applause ]You're telling everyone.Spoilers! Spoiler alert! You're about to hear every single thing.\"]],\n",
       " ['A',\n",
       "  ['-Yeah. -Give us a couple.-My fans know that I have a song called \"R.E.M.\"because I have a big mouth and I went on Twitterand I just, like, tweet-vomited a bunch of lyrics the other day.I was like, \"Good morning, I\\'m bored.Okay, here\\'s a song.\"[ Laughter ]So -- so I spilled a bunch of tea in that.Okay, and then there\\'s another song called\"The Light Is Coming\" that I love a lot.-[ Vocalizing ] -Oh, ooh, unh, they said.[ Laughter ]I heard someone make that noise. -Yeah. -And then there\\'s one called']],\n",
       " ['Q',\n",
       "  ['\"God is a Woman\" that I love.[ Cheers and applause ] -Wow. They know these songs already.']],\n",
       " ['A',\n",
       "  [\"They're not even like -- -We hid, like, a track listin the video, but it's not in order. -Oh. -So, yeah.\"]],\n",
       " ['Q',\n",
       "  ['My fans have been -- -Good stuff! -Yeah, oh, thank you. -Can you tell us something']],\n",
       " ['A',\n",
       "  [\"that we don't know? What is the first song? -Okay, so the first song --\"]],\n",
       " ['Q', [\" well, it's kind of like an intro.\"]],\n",
       " ['A', [' It\\'s called \"Raindrops.\" And it\\'s --']],\n",
       " ['Q',\n",
       "  ['[ Cheers and applause ] -What is the story? -\"Yaas!\" I just heard someone say.']],\n",
       " ['A',\n",
       "  ['-Yaaah. -Thank you.-What is the story behind \"Raindrops?\"-It\\'s a really crazy story actually.It, like, gives me goosebumps every time we, I, like --It\\'s so crazy. So -- so it is actually --it\\'s like a cover of a small part of a songfrom the \\'50s called \"An Angel Cried.\"And I -- I had it, like, in my head.I woke up -- we were really close to finishingthe album and I had it in my head.And I said to Max, I said, \"You know what?Let me just, like, record this little part a cappella.Let\\'s just go in and do it and maybe we can, like,chop it up and sample it or something,or, like, make a beat out of it or whatever.\"Anyway, I do it, and then Max was like,\"Let\\'s not touch that, just leave it like that.\"And so that\\'s how the album starts.And I went to go check to see who wrote it.Just -- I mean, I was curious, you know?And so it turns out -- This is so crazy.Y\\'all are going to think I\\'m lying, but my grandfather\\'s best friend,']],\n",
       " ['Q',\n",
       "  ['who I grew up hanging out with in Boca,Charlie Calello, wrote it with Bob Gaudio from The Four Seasons.']],\n",
       " ['A', [' And that really just gave me goosebumps.']],\n",
       " ['Q',\n",
       "  ['-Wow, so your grandfather knew him?-Yeah, really well. -Knew the writer. -Really well. [ Applause ]']],\n",
       " ['A', [\" -There's almost like -- it's almost like a sign,\"]],\n",
       " ['Q',\n",
       "  ['him telling you.-Yeah, he was like, \"Okay, the album\\'s done, girl.\"[ Laughter ]-Yeah, exactly. -Yeah. -And has your grandma listened to the record?']],\n",
       " ['A',\n",
       "  ['-She has, yeah. -Nonna.-Nonna has heard it. -Nonna.-Yeah. -I love Nonna so much.-Yeah. -Hi, Nonna.-Hi, Nonna. -We always say \"hi\" to her.Hi, Nonna. [ Cheers and applause ]-Hi, Nonna. -What does Nonna say about the album? -She loves \"God is a Woman.\"']],\n",
       " ['Q',\n",
       "  [\"She loves it so much. -That's her jam. -That's her favorite. I'll ask her, like,\"]],\n",
       " ['A',\n",
       "  ['\"Hey, Nonna, what do you think of, like, you know, my single, what do -- do like \\'No Tears Left To Cry\\'?\"']],\n",
       " ['Q',\n",
       "  ['And she\\'s like, \"I love it. But you know, Ariana,can we listen to \\'God is a Woman\\' again?\" And I\\'m like, \"Nonna, okay.\" -I love Nonna.']],\n",
       " ['A',\n",
       "  [\"-She -- it's, you know, she has her favorites.She's not subtle about it. [ Laughter ]-Now you said summer, you hinted at summer.-Yeah. -But you're doing alsoa cool thing, like, on the 20th? -Oh, yeah, yeah.Oh, yeah, yeah. Okay, so I told Jimmy, I told Jimmy, I told Jimmy. -Yeah.\"]],\n",
       " ['Q',\n",
       "  [\"[ Laughter ] -Since I'm not announcing the album date, I -- yet, you'll have it\"]],\n",
       " ['A', ['in like two seconds, but -- [ Laughter ]']],\n",
       " ['Q',\n",
       "  [\"I'm going to be doing something special on every 20th.-So what -- what? -Yeah.-So every 20th, you're doing something special.-Yeah. -Like, can you give an example? -There's, like, only like three 20ths until the big thing,\"]],\n",
       " ['A', [' but, you know, I just told you when it is but --']],\n",
       " ['Q',\n",
       "  ['[ Laughter ]-Yeah. -Yeah.-So basically, wow, all right. So I\\'m doing the math.-So basically, yeah, okay. -Okay, yeah,this is very exciting. -Okay, don\\'t say, okay, okay.-All right. -Yeah.-But what\\'s happening this month on May 20th?-I am performing at the Billboard Awards.-Hey, that\\'s it![ Cheers and applause ]All right. Good. I haven\\'t seen you --I haven\\'t seen you in over a year, probably,and I haven\\'t seen you since the tragic eventsthat happened in Manchester.And I know it\\'s just tough for everybodyand tough for fans and tough for you.And I know you haven\\'t done any interviews,and I understand that. I just wanted to say thank youso much for coming on our show and for being strong.And for entertaining and for showing upand going back to Manchester and doing a benefit.I thought that was awesome. -Thanks.And just so -- I just think you\\'re so strong.-Thanks. -And so cool.-Thank you.[ Cheers and applause ]-To do that...[ Cheers and applause continues ]You...You wrote an essay online,and I just wanted just read a couple of lines from thatthat you wrote I just thought was beautiful.You said, \"We won\\'t let hate win.Our response to this violence must be to come closer together, to help each other, to love more, to sing louder,']],\n",
       " ['A',\n",
       "  ['and to live more kindly and generously than we did before.\"[ Cheers and applause ]Thank you. Thank you, pal. Thank you for saying that. Thank you for being here.']]]"
      ]
     },
     "execution_count": 26,
     "metadata": {},
     "output_type": "execute_result"
    }
   ],
   "source": [
    "dialogueList"
   ]
  },
  {
   "cell_type": "code",
   "execution_count": null,
   "id": "02c21d7f",
   "metadata": {},
   "outputs": [],
   "source": []
  }
 ],
 "metadata": {
  "kernelspec": {
   "display_name": "Python 3 (ipykernel)",
   "language": "python",
   "name": "python3"
  },
  "language_info": {
   "codemirror_mode": {
    "name": "ipython",
    "version": 3
   },
   "file_extension": ".py",
   "mimetype": "text/x-python",
   "name": "python",
   "nbconvert_exporter": "python",
   "pygments_lexer": "ipython3",
   "version": "3.9.6"
  }
 },
 "nbformat": 4,
 "nbformat_minor": 5
}
